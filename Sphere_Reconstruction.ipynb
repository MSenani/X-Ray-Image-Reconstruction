{
 "cells": [
  {
   "cell_type": "markdown",
   "metadata": {},
   "source": [
    "# Forward Propagation Code for a Sphere\n"
   ]
  },
  {
   "cell_type": "code",
   "execution_count": 3,
   "metadata": {},
   "outputs": [],
   "source": [
    "import numpy as np\n",
    "import matplotlib.pyplot as plt\n",
    "from scipy import signal\n",
    "\n",
    "## Physical constants\n",
    "h        = 6.626e-34       # J.s: Planck's constant\n",
    "c        = 2.99792458e8    # m/s: Speed of light"
   ]
  },
  {
   "cell_type": "code",
   "execution_count": null,
   "metadata": {},
   "outputs": [],
   "source": [
    "# class Beam:\n",
    "#     def __init__(self):\n",
    "#         self.E      = 1.\n",
    "#         self.lambda = h*c/self.E\n",
    "#         self.freq   = self.E/h\n",
    "#         self.dist   = 1."
   ]
  },
  {
   "cell_type": "code",
   "execution_count": 4,
   "metadata": {},
   "outputs": [],
   "source": [
    "def SphericalThickness(r,x,y):\n",
    "    '''\n",
    "    Returns thickness through sphere of radius r at a given (x,y)\n",
    "    '''\n",
    "    if x**2 + y**2 < r**2:\n",
    "        return np.sqrt(r**2 - (x**2 + y**2)) * 2\n",
    "    else:\n",
    "        return 0.\n",
    "\n",
    "    \n",
    "    \n",
    "def SphericalAttenuation_pw(r, Lx, Ly, nbins_x, nbins_y):\n",
    "    '''\n",
    "    Inputs:\n",
    "        r       (float): radius\n",
    "        Lx      (float): image field x-length\n",
    "        Ly      (float): image field y-length\n",
    "        nbins_x (int)  : number of x bins\n",
    "        nbins_y (int)  : number of y bins\n",
    "    Outputs:\n",
    "        attenuated_wave (ndarray): xy grid of waveform values post-attenuation\n",
    "    '''\n",
    "    ## Physical constants\n",
    "    h        = 6.626e-34       # J.s: Planck's constant\n",
    "    c        = 2.99792458e8    # m/s: Speed of light\n",
    "\n",
    "    ## Some APS-specific x-ray constants\n",
    "    E0       = 9.61306e-16                           # J: incident x-ray energy (= 6keV)\n",
    "    delta    = 1.2743e-5                             # δ for Carbon\n",
    "    beta     = 3.8559e-8                             # β for Carbon\n",
    "    k        = ( (2*np.pi*E0)/(h*c) ) * (1 - delta)  # Wave vector: Carbon\n",
    "    kappa    = ( (2*np.pi*E0)/(h*c) ) * beta         # Extinction coefficient: Carbon\n",
    "    K        = k + (1j * kappa)                      # Complex refractive index: Carbon\n",
    "\n",
    "    ## Discretization parameters\n",
    "    dx       = Lx/nbins_x      # Spacing between x grid-points\n",
    "    dy       = Ly/nbins_y      # Spacing between y grid-points\n",
    "\n",
    "\n",
    "    ## Initialize the attenuated wave as a uniform plane wave in the z direction\n",
    "    attenuated_wave = np.full((nbins_x+1,nbins_y+1), np.exp(1j * K * radius), dtype = np.complex128)\n",
    "\n",
    "    ## Multiply the wave in each grid-point by the appropriate attenuation factor\n",
    "    for i in range(nbins_x + 1):\n",
    "        x = (i - nbins_x/2) * dx       # maps index i to coordinate x\n",
    "        for j in range(nbins_y + 1):\n",
    "            y = (j - nbins_y/2) * dy       # maps index j to coordinate y\n",
    "            t = SphericalThickness(radius,x,y)\n",
    "            attenuated_wave[i,j] *= np.exp(-kappa*t)  # multiply plane wave in each bin by attenuation factor\n",
    "    \n",
    "    return attenuated_wave\n",
    "\n",
    "\n",
    "def propagate(wave, d):\n",
    "    '''\n",
    "    Propagates a wave via convolution.\n",
    "    '''\n",
    "    ## Physical constants\n",
    "    h        = 6.626e-34       # J.s: Planck's constant\n",
    "    c        = 2.99792458e8    # m/s: Speed of light\n",
    "\n",
    "    ## Some APS-specific x-ray constants\n",
    "    E0       = 9.61306e-16                           # J: incident x-ray energy (= 6keV)\n",
    "    delta    = 1.2743e-5                             # δ for Carbon\n",
    "    beta     = 3.8559e-8                             # β for Carbon\n",
    "    k        = ( (2*np.pi*E0)/(h*c) ) * (1 - delta)  # Wave vector: Carbon\n",
    "    kappa    = ( (2*np.pi*E0)/(h*c) ) * beta         # Extinction coefficient: Carbon\n",
    "    K        = k + (1j * kappa)                      # Complex refractive index: Carbon\n",
    "    l        = h*c/E0\n",
    "    \n",
    "    dim = wave.shape\n",
    "    wave2 = np.zeros((dim[0],dim[1]), dtype = np.complex128)\n",
    "    for i in range(dim[0]):\n",
    "        x = (i - nbins_x/2) * dx       # maps index i to coordinate x\n",
    "        for j in range(dim[1]):\n",
    "            y = (j - nbins_y/2) * dy       # maps index j to coordinate y\n",
    "            wave2[i][j] += np.exp(-1j * k * (x**2 + y**2) / (2*d))\n",
    "    \n",
    "    propagated_wave = (-1j*np.exp(1j*k*d)/(l*d)) * signal.convolve2d(wave,wave2)\n",
    "    \n",
    "    return propagated_wave"
   ]
  },
  {
   "cell_type": "code",
   "execution_count": 25,
   "metadata": {},
   "outputs": [
    {
     "name": "stdout",
     "output_type": "stream",
     "text": [
      "(101, 101) (201, 201)\n"
     ]
    },
    {
     "data": {
      "image/png": "[encoded data removed]",
      "text/plain": [
       "<Figure size 432x288 with 1 Axes>"
      ]
     },
     "metadata": {
      "needs_background": "light"
     },
     "output_type": "display_data"
    },
    {
     "data": {
      "image/png": "[encoded data removed]",
      "text/plain": [
       "<Figure size 432x288 with 1 Axes>"
      ]
     },
     "metadata": {
      "needs_background": "light"
     },
     "output_type": "display_data"
    }
   ],
   "source": [
    "## Define some constants\n",
    "h        = 6.626e-34       # J.s: Planck's constant\n",
    "c        = 2.99792458e8    # m/s: Speed of light\n",
    "\n",
    "## Some APS-specific x-ray constants\n",
    "E0       = 9.61306e-16                           # J: incident x-ray energy (= 6keV)\n",
    "delta    = 1.2743e-5                             # δ for Carbon\n",
    "beta     = 3.8559e-8                             # β for Carbon\n",
    "k        = ( (2*np.pi*E0)/(h*c) ) * (1 - delta)  # Wave vector: Carbon\n",
    "kappa    = ( (2*np.pi*E0)/(h*c) ) * beta         # Extinction coefficient: Carbon\n",
    "K        = k + (1j * kappa)                      # Complex refractive index: Carbon\n",
    "\n",
    "## Geometry & discretization parameters\n",
    "radius   = 25e-3           # m: sphere radius\n",
    "d        = 250e-3          # m: camera distance from edge of sphere\n",
    "Lx       = 100e-3          # m: image field x-length\n",
    "Ly       = 100e-3          # m: image field y-length\n",
    "nbins_x  = 100             # Number of x bins\n",
    "nbins_y  = 100             # Number of y bins\n",
    "dx       = Lx/nbins_x      # Spacing between x grid-points\n",
    "dy       = Ly/nbins_y      # Spacing between y grid-points\n",
    "\n",
    "\n",
    "## Initialize the attenuated wave as a uniform plane wave in the z direction\n",
    "# attenuated_wave = np.full((nbins_x+1,nbins_y+1), np.exp(1j * k * radius), dtype = np.complex128)\n",
    "attenuated_wave = np.full((nbins_x+1,nbins_y+1), np.exp(1j * (1-delta) * radius), dtype = np.complex128)\n",
    "\n",
    "## Multiply the wave in each grid-point by the appropriate attenuation factor\n",
    "for i in range(nbins_x + 1):\n",
    "    x = (i - nbins_x/2) * dx       # maps index i to coordinate x\n",
    "    for j in range(nbins_y + 1):\n",
    "        y = (j - nbins_y/2) * dy       # maps index j to coordinate y\n",
    "        t = SphericalThickness(radius,x,y)    # sphere thickness at entry point (x,y)\n",
    "#         attenuated_wave[i,j] *= np.exp(-kappa*t)  # multiply plane wave in each bin by attenuation factor\n",
    "        attenuated_wave[i,j] *= np.exp(-beta*t)\n",
    "    \n",
    "x = np.array([(i - nbins_x/2)*dx for i in range(nbins_x + 1)])\n",
    "y = np.array([(j - nbins_y/2)*dy for j in range(nbins_y + 1)])\n",
    "\n",
    "dim = attenuated_wave.shape\n",
    "\n",
    "wave2 = np.zeros((dim[0],dim[1]), dtype = np.complex128)\n",
    "for i in range(dim[0]):\n",
    "    x = (i - nbins_x/2) * dx       # maps index i to coordinate x\n",
    "    for j in range(dim[1]):\n",
    "        y = (j - nbins_y/2) * dy       # maps index j to coordinate y\n",
    "        wave2[i][j] += np.exp(-1j * (1-delta) * (x**2 + y**2) / (2*d))\n",
    "\n",
    "        \n",
    "        \n",
    "        \n",
    "\n",
    "# l = k/(2*np.pi)\n",
    "# propagated_wave = (-1j*np.exp(1j*k*d)/(l*d)) * signal.convolve2d(attenuated_wave, wave2)\n",
    "l = (1-delta)/(2*np.pi)\n",
    "propagated_wave = (-1j*np.exp(1j*(1-delta)*d)/(l*d)) * signal.convolve2d(attenuated_wave, wave2)\n",
    "\n",
    "print(attenuated_wave.shape, propagated_wave.shape)\n",
    "\n",
    "x = np.linspace(-nbins_x/2, nbins_x/2, dim[0])\n",
    "plt.plot(x, np.abs(attenuated_wave[:,int(nbins_x/2)]))\n",
    "plt.show()\n",
    "\n",
    "x = np.linspace(-nbins_x/2, nbins_x/2, dim[0]*2-1)\n",
    "plt.plot(x, np.abs(propagated_wave[:,int(nbins_x/2)]))\n",
    "plt.show()"
   ]
  },
  {
   "cell_type": "code",
   "execution_count": null,
   "metadata": {},
   "outputs": [],
   "source": []
  },
  {
   "cell_type": "code",
   "execution_count": null,
   "metadata": {
    "collapsed": true
   },
   "outputs": [],
   "source": []
  }
 ],
 "metadata": {
  "kernelspec": {
   "display_name": "Python 3",
   "language": "python",
   "name": "python3"
  },
  "language_info": {
   "codemirror_mode": {
    "name": "ipython",
    "version": 3
   },
   "file_extension": ".py",
   "mimetype": "text/x-python",
   "name": "python",
   "nbconvert_exporter": "python",
   "pygments_lexer": "ipython3",
   "version": "3.7.0"
  }
 },
 "nbformat": 4,
 "nbformat_minor": 2
}
