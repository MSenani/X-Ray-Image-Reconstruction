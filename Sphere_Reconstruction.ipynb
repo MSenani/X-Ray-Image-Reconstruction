{
 "cells": [
  {
   "cell_type": "markdown",
   "metadata": {},
   "source": [
    "# Forward Propagation Code for a Sphere\n"
   ]
  },
  {
   "cell_type": "code",
   "execution_count": null,
   "metadata": {
    "collapsed": true
   },
   "outputs": [],
   "source": [
    "import numpy as np\n",
    "import matplotlib.pyplot as plt"
   ]
  },
  {
   "cell_type": "code",
   "execution_count": 18,
   "metadata": {},
   "outputs": [
    {
     "name": "stdout",
     "output_type": "stream",
     "text": [
      "[[ 0.+0.j  0.+0.j  0.+0.j ...,  0.+0.j  0.+0.j  0.+0.j]\n",
      " [ 0.+0.j  0.+0.j  0.+0.j ...,  0.+0.j  0.+0.j  0.+0.j]\n",
      " [ 0.+0.j  0.+0.j  0.+0.j ...,  0.+0.j  0.+0.j  0.+0.j]\n",
      " ..., \n",
      " [ 0.+0.j  0.+0.j  0.+0.j ...,  0.+0.j  0.+0.j  0.+0.j]\n",
      " [ 0.+0.j  0.+0.j  0.+0.j ...,  0.+0.j  0.+0.j  0.+0.j]\n",
      " [ 0.+0.j  0.+0.j  0.+0.j ...,  0.+0.j  0.+0.j  0.+0.j]]\n"
     ]
    }
   ],
   "source": [
    "def SphericalThickness(r,x,y):\n",
    "    '''\n",
    "    Returns thickness through sphere of radius r at a given (x,y)\n",
    "    '''\n",
    "    if x**2 + y**2 < r**2:\n",
    "        return np.sqrt(r**2 - (x**2 + y**2)) * 2\n",
    "    else:\n",
    "        return 0.\n",
    "\n",
    "\n",
    "radius = 50e-3   # m\n",
    "d = 250e-3       # m\n",
    "Lx = 100e-3      # m\n",
    "Ly = 100e-3      # m\n",
    "nbins_x = 101\n",
    "nbins_y = 101\n",
    "\n",
    "h = 6.626e-34    # J.s\n",
    "c = 2.99e8       # m/s\n",
    "E = 9.61306e-13  # J\n",
    "delta = 1.2743e-5\n",
    "beta = 3.8559e-8\n",
    "n = 1 - delta + 1j*beta\n",
    "k = ( (2*np.pi)/(h*c) ) * E * n\n",
    "\n",
    "attenuated_wave = np.empty((nbins_x,nbins_y), dtype = np.complex128)\n",
    "\n",
    "for i in range(nbins_x):\n",
    "    x = (i - nbins_x/2) / Lx\n",
    "    for j in range(nbins_y):\n",
    "        y = (j - nbins_y/2) / Ly\n",
    "        t = SphericalThickness(radius,x,y)\n",
    "        attenuated_wave[i,j] = np.exp(1j * k * radius) * np.exp(-k*t)\n",
    "\n",
    "x = np.array([i - nbins_x/2 for i in range(nbins_x)])\n",
    "y = np.array([j - nbins_y/2 for j in range(nbins_y)])\n",
    "\n",
    "print(attenuated_wave)\n",
    "\n",
    "# plt.hist2d(X,Y,np.abs(attenuated_wave))\n",
    "# plt.show()"
   ]
  },
  {
   "cell_type": "code",
   "execution_count": null,
   "metadata": {
    "collapsed": true
   },
   "outputs": [],
   "source": [
    "def SphericalAttenuation_pw(r, nbins_x, nbins_y):\n",
    "    '''\n",
    "    Inputs:\n",
    "        r (float): radius\n",
    "    Outputs:\n",
    "        attenuated_wave (ndarray): xy grid of waveform values post-attenuation\n",
    "    '''\n",
    "    grid = np.zeros((nbins_x,nbins_y))\n",
    "    \n",
    "    for i in range(len(grid)):\n",
    "        for j in range(len(grid[0])):\n",
    "            makesphere.exe\n",
    "            kthxbai\n"
   ]
  }
 ],
 "metadata": {
  "kernelspec": {
   "display_name": "Python 3",
   "language": "python",
   "name": "python3"
  },
  "language_info": {
   "codemirror_mode": {
    "name": "ipython",
    "version": 3
   },
   "file_extension": ".py",
   "mimetype": "text/x-python",
   "name": "python",
   "nbconvert_exporter": "python",
   "pygments_lexer": "ipython3",
   "version": "3.6.2"
  }
 },
 "nbformat": 4,
 "nbformat_minor": 2
}
