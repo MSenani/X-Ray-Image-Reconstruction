{
 "cells": [
  {
   "cell_type": "markdown",
   "metadata": {},
   "source": [
    "# Forward Propagation Code for a Sphere\n"
   ]
  },
  {
   "cell_type": "code",
   "execution_count": null,
   "metadata": {
    "collapsed": true
   },
   "outputs": [],
   "source": [
    "import numpy as np\n",
    "import matplotlib.pyplot as plt"
   ]
  },
  {
   "cell_type": "code",
   "execution_count": 19,
   "metadata": {},
   "outputs": [
    {
     "name": "stdout",
     "output_type": "stream",
     "text": [
      "[[ 0.+0.j  0.+0.j  0.+0.j ...,  0.+0.j  0.+0.j  0.+0.j]\n",
      " [ 0.+0.j  0.+0.j  0.+0.j ...,  0.+0.j  0.+0.j  0.+0.j]\n",
      " [ 0.+0.j  0.+0.j  0.+0.j ...,  0.+0.j  0.+0.j  0.+0.j]\n",
      " ..., \n",
      " [ 0.+0.j  0.+0.j  0.+0.j ...,  0.+0.j  0.+0.j  0.+0.j]\n",
      " [ 0.+0.j  0.+0.j  0.+0.j ...,  0.+0.j  0.+0.j  0.+0.j]\n",
      " [ 0.+0.j  0.+0.j  0.+0.j ...,  0.+0.j  0.+0.j  0.+0.j]]\n"
     ]
    }
   ],
   "source": [
    "def SphericalThickness(r,x,y):\n",
    "    '''\n",
    "    Returns thickness through sphere of radius r at a given (x,y)\n",
    "    '''\n",
    "    if x**2 + y**2 < r**2:\n",
    "        return np.sqrt(r**2 - (x**2 + y**2)) * 2\n",
    "    else:\n",
    "        return 0.\n",
    "\n",
    "\n",
    "radius = 50e-3   # m\n",
    "d = 250e-3       # m: camera distance\n",
    "Lx = 100e-3      # m: image x-length\n",
    "Ly = 100e-3      # m: image y-length\n",
    "nbins_x = 101\n",
    "nbins_y = 101\n",
    "dx = Lx/nbins_x\n",
    "dy = Ly/nbins_y\n",
    "\n",
    "h = 6.626e-34                    # J.s: Planck's constant\n",
    "c = 2.99e8                       # m/s: Speed of light\n",
    "E = 9.61306e-13                  # J: incident x-ray energy\n",
    "delta = 1.2743e-5                # δ for Carbon\n",
    "beta = 3.8559e-8                 # β for Carbon\n",
    "n = 1 - delta + 1j*beta          # Complex refractive index for Carbon\n",
    "k = ( (2*np.pi)/(h*c) ) * E * n  # rad/m: Complex wave vector\n",
    "\n",
    "# Initialize the attenuated wave\n",
    "attenuated_wave = np.full((nbins_x,nbins_y), np.exp(1j * k * radius), dtype = np.complex128)\n",
    "\n",
    "for i in range(nbins_x):\n",
    "    x = (i - nbins_x/2) * dx       # maps index i to coordinate x\n",
    "    for j in range(nbins_y):\n",
    "        y = (j - nbins_y/2) * dy   # maps index j to coordinate y\n",
    "        t = SphericalThickness(radius,x,y)\n",
    "        attenuated_wave[i,j] *= np.exp(-k*t)  # multiply plane wave in each bin by attenuation factor\n",
    "\n",
    "x = np.array([i - nbins_x/2 for i in range(nbins_x)])\n",
    "y = np.array([j - nbins_y/2 for j in range(nbins_y)])\n",
    "\n",
    "print(attenuated_wave)\n",
    "\n",
    "# plt.hist2d(X,Y,np.abs(attenuated_wave))\n",
    "# plt.show()"
   ]
  },
  {
   "cell_type": "code",
   "execution_count": null,
   "metadata": {
    "collapsed": true
   },
   "outputs": [],
   "source": [
    "def SphericalAttenuation_pw(r, nbins_x, nbins_y):\n",
    "    '''\n",
    "    Inputs:\n",
    "        r (float): radius\n",
    "    Outputs:\n",
    "        attenuated_wave (ndarray): xy grid of waveform values post-attenuation\n",
    "    '''\n",
    "    grid = np.zeros((nbins_x,nbins_y))\n",
    "    \n",
    "    for i in range(len(grid)):\n",
    "        for j in range(len(grid[0])):\n",
    "            makesphere.exe\n",
    "            kthxbai\n"
   ]
  }
 ],
 "metadata": {
  "kernelspec": {
   "display_name": "Python 3",
   "language": "python",
   "name": "python3"
  },
  "language_info": {
   "codemirror_mode": {
    "name": "ipython",
    "version": 3
   },
   "file_extension": ".py",
   "mimetype": "text/x-python",
   "name": "python",
   "nbconvert_exporter": "python",
   "pygments_lexer": "ipython3",
   "version": "3.6.2"
  }
 },
 "nbformat": 4,
 "nbformat_minor": 2
}
